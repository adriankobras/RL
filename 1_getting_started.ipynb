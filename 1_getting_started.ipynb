{
 "cells": [
  {
   "attachments": {},
   "cell_type": "markdown",
   "metadata": {
    "colab_type": "text",
    "id": "view-in-github"
   },
   "source": [
    "<a href=\"https://colab.research.google.com/github/araffin/rl-tutorial-jnrr19/blob/sb3/1_getting_started.ipynb\" target=\"_parent\"><img src=\"https://colab.research.google.com/assets/colab-badge.svg\" alt=\"Open In Colab\"/></a>"
   ]
  },
  {
   "attachments": {},
   "cell_type": "markdown",
   "metadata": {
    "colab_type": "text",
    "id": "hyyN-2qyK_T2"
   },
   "source": [
    "# Stable Baselines3 Tutorial - Getting Started\n",
    "\n",
    "Github repo: https://github.com/araffin/rl-tutorial-jnrr19/tree/sb3/\n",
    "\n",
    "Stable-Baselines3: https://github.com/DLR-RM/stable-baselines3\n",
    "\n",
    "Documentation: https://stable-baselines3.readthedocs.io/en/master/\n",
    "\n",
    "SB3-Contrib: https://github.com/Stable-Baselines-Team/stable-baselines3-contrib\n",
    "\n",
    "RL Baselines3 zoo: https://github.com/DLR-RM/rl-baselines3-zoo\n",
    "\n",
    "[RL Baselines3 Zoo](https://github.com/DLR-RM/rl-baselines3-zoo) is a training framework for Reinforcement Learning (RL), using Stable Baselines3.\n",
    "\n",
    "It provides scripts for training, evaluating agents, tuning hyperparameters, plotting results and recording videos.\n",
    "\n",
    "\n",
    "## Introduction\n",
    "\n",
    "In this notebook, you will learn the basics for using stable baselines library: how to create a RL model, train it and evaluate it. Because all algorithms share the same interface, we will see how simple it is to switch from one algorithm to another.\n",
    "\n",
    "\n",
    "## Install Dependencies and Stable Baselines3 Using Pip\n",
    "\n",
    "List of full dependencies can be found in the [README](https://github.com/DLR-RM/stable-baselines3).\n",
    "\n",
    "\n",
    "```\n",
    "pip install stable-baselines3[extra]\n",
    "```"
   ]
  },
  {
   "cell_type": "code",
   "execution_count": null,
   "metadata": {},
   "outputs": [],
   "source": [
    "# for autoformatting\n",
    "# %load_ext jupyter_black"
   ]
  },
  {
   "cell_type": "code",
   "execution_count": 2,
   "metadata": {
    "colab": {
     "base_uri": "https://localhost:8080/",
     "height": 784
    },
    "colab_type": "code",
    "id": "gWskDE2c9WoN",
    "outputId": "03477445-4249-49c3-ddba-4e12df09e98e"
   },
   "outputs": [
    {
     "name": "stdout",
     "output_type": "stream",
     "text": [
      "zsh:1: command not found: apt-get\n"
     ]
    },
    {
     "name": "stdout",
     "output_type": "stream",
     "text": [
      "Requirement already satisfied: stable-baselines3>=2.0.0a4 in /opt/anaconda3/envs/ml/lib/python3.12/site-packages (from stable-baselines3[extra]>=2.0.0a4) (2.3.1)\n",
      "Requirement already satisfied: gymnasium<0.30,>=0.28.1 in /opt/anaconda3/envs/ml/lib/python3.12/site-packages (from stable-baselines3>=2.0.0a4->stable-baselines3[extra]>=2.0.0a4) (0.29.1)\n",
      "Requirement already satisfied: numpy>=1.20 in /opt/anaconda3/envs/ml/lib/python3.12/site-packages (from stable-baselines3>=2.0.0a4->stable-baselines3[extra]>=2.0.0a4) (1.26.4)\n",
      "Requirement already satisfied: torch>=1.13 in /opt/anaconda3/envs/ml/lib/python3.12/site-packages (from stable-baselines3>=2.0.0a4->stable-baselines3[extra]>=2.0.0a4) (2.2.0.post100)\n",
      "Requirement already satisfied: cloudpickle in /opt/anaconda3/envs/ml/lib/python3.12/site-packages (from stable-baselines3>=2.0.0a4->stable-baselines3[extra]>=2.0.0a4) (3.0.0)\n",
      "Requirement already satisfied: pandas in /opt/anaconda3/envs/ml/lib/python3.12/site-packages (from stable-baselines3>=2.0.0a4->stable-baselines3[extra]>=2.0.0a4) (2.2.2)\n",
      "Requirement already satisfied: matplotlib in /opt/anaconda3/envs/ml/lib/python3.12/site-packages (from stable-baselines3>=2.0.0a4->stable-baselines3[extra]>=2.0.0a4) (3.8.4)\n",
      "Collecting opencv-python (from stable-baselines3[extra]>=2.0.0a4)\n",
      "  Using cached opencv_python-4.9.0.80-cp37-abi3-macosx_11_0_arm64.whl.metadata (20 kB)\n",
      "Collecting pygame (from stable-baselines3[extra]>=2.0.0a4)\n",
      "  Using cached pygame-2.5.2-cp312-cp312-macosx_11_0_arm64.whl.metadata (13 kB)\n",
      "Collecting tensorboard>=2.9.1 (from stable-baselines3[extra]>=2.0.0a4)\n",
      "  Using cached tensorboard-2.16.2-py3-none-any.whl.metadata (1.6 kB)\n",
      "Requirement already satisfied: psutil in /opt/anaconda3/envs/ml/lib/python3.12/site-packages (from stable-baselines3[extra]>=2.0.0a4) (5.9.0)\n",
      "Requirement already satisfied: tqdm in /opt/anaconda3/envs/ml/lib/python3.12/site-packages (from stable-baselines3[extra]>=2.0.0a4) (4.66.2)\n",
      "Collecting rich (from stable-baselines3[extra]>=2.0.0a4)\n",
      "  Using cached rich-13.7.1-py3-none-any.whl.metadata (18 kB)\n",
      "Collecting shimmy~=1.3.0 (from shimmy[atari]~=1.3.0; extra == \"extra\"->stable-baselines3[extra]>=2.0.0a4)\n",
      "  Using cached Shimmy-1.3.0-py3-none-any.whl.metadata (3.7 kB)\n",
      "Requirement already satisfied: pillow in /opt/anaconda3/envs/ml/lib/python3.12/site-packages (from stable-baselines3[extra]>=2.0.0a4) (10.3.0)\n",
      "Collecting autorom~=0.6.1 (from autorom[accept-rom-license]~=0.6.1; extra == \"extra\"->stable-baselines3[extra]>=2.0.0a4)\n",
      "  Using cached AutoROM-0.6.1-py3-none-any.whl.metadata (2.4 kB)\n",
      "Collecting click (from autorom~=0.6.1->autorom[accept-rom-license]~=0.6.1; extra == \"extra\"->stable-baselines3[extra]>=2.0.0a4)\n",
      "  Using cached click-8.1.7-py3-none-any.whl.metadata (3.0 kB)\n",
      "Requirement already satisfied: requests in /opt/anaconda3/envs/ml/lib/python3.12/site-packages (from autorom~=0.6.1->autorom[accept-rom-license]~=0.6.1; extra == \"extra\"->stable-baselines3[extra]>=2.0.0a4) (2.31.0)\n",
      "Collecting AutoROM.accept-rom-license (from autorom[accept-rom-license]~=0.6.1; extra == \"extra\"->stable-baselines3[extra]>=2.0.0a4)\n",
      "  Using cached AutoROM.accept-rom-license-0.6.1.tar.gz (434 kB)\n",
      "  Installing build dependencies ... \u001b[?25ldone\n",
      "\u001b[?25h  Getting requirements to build wheel ... \u001b[?25ldone\n",
      "\u001b[?25h  Preparing metadata (pyproject.toml) ... \u001b[?25ldone\n",
      "\u001b[?25hRequirement already satisfied: typing-extensions>=4.3.0 in /opt/anaconda3/envs/ml/lib/python3.12/site-packages (from gymnasium<0.30,>=0.28.1->stable-baselines3>=2.0.0a4->stable-baselines3[extra]>=2.0.0a4) (4.9.0)\n",
      "Requirement already satisfied: farama-notifications>=0.0.1 in /opt/anaconda3/envs/ml/lib/python3.12/site-packages (from gymnasium<0.30,>=0.28.1->stable-baselines3>=2.0.0a4->stable-baselines3[extra]>=2.0.0a4) (0.0.4)\n",
      "INFO: pip is looking at multiple versions of shimmy[atari] to determine which version is compatible with other requirements. This could take a while.\n",
      "Collecting stable-baselines3[extra]>=2.0.0a4\n",
      "  Using cached stable_baselines3-2.3.1-py3-none-any.whl.metadata (5.1 kB)\n",
      "  Using cached stable_baselines3-2.3.0-py3-none-any.whl.metadata (5.1 kB)\n",
      "  Using cached stable_baselines3-2.3.0a5-py3-none-any.whl.metadata (5.1 kB)\n",
      "  Using cached stable_baselines3-2.3.0a4-py3-none-any.whl.metadata (5.1 kB)\n",
      "  Using cached stable_baselines3-2.3.0a2-py3-none-any.whl.metadata (5.1 kB)\n",
      "  Using cached stable_baselines3-2.3.0a1-py3-none-any.whl.metadata (5.0 kB)\n",
      "  Using cached stable_baselines3-2.2.1-py3-none-any.whl.metadata (5.0 kB)\n",
      "INFO: pip is still looking at multiple versions of shimmy[atari] to determine which version is compatible with other requirements. This could take a while.\n",
      "  Using cached stable_baselines3-2.2.0a11-py3-none-any.whl.metadata (5.0 kB)\n",
      "  Using cached stable_baselines3-2.2.0a9-py3-none-any.whl.metadata (5.1 kB)\n",
      "  Using cached stable_baselines3-2.2.0a8-py3-none-any.whl.metadata (5.1 kB)\n",
      "  Using cached stable_baselines3-2.1.0-py3-none-any.whl.metadata (5.2 kB)\n",
      "Collecting shimmy~=1.1.0 (from shimmy[atari]~=1.1.0; extra == \"extra\"->stable-baselines3[extra]>=2.0.0a4)\n",
      "  Using cached Shimmy-1.1.0-py3-none-any.whl.metadata (3.3 kB)\n",
      "Collecting stable-baselines3[extra]>=2.0.0a4\n",
      "  Using cached stable_baselines3-2.0.0-py3-none-any.whl.metadata (5.4 kB)\n",
      "Collecting gymnasium<0.30,>=0.28.1 (from stable-baselines3>=2.0.0a4->stable-baselines3[extra]>=2.0.0a4)\n",
      "  Using cached gymnasium-0.28.1-py3-none-any.whl.metadata (9.2 kB)\n",
      "Collecting shimmy~=0.2.1 (from shimmy[atari]~=0.2.1; extra == \"extra\"->stable-baselines3[extra]>=2.0.0a4)\n",
      "  Using cached Shimmy-0.2.1-py3-none-any.whl.metadata (2.3 kB)\n",
      "Collecting jax-jumpy>=1.0.0 (from gymnasium<0.30,>=0.28.1->stable-baselines3>=2.0.0a4->stable-baselines3[extra]>=2.0.0a4)\n",
      "  Using cached jax_jumpy-1.0.0-py3-none-any.whl.metadata (15 kB)\n",
      "INFO: This is taking longer than usual. You might need to provide the dependency resolver with stricter constraints to reduce runtime. See https://pip.pypa.io/warnings/backtracking for guidance. If you want to abort this run, press Ctrl + C.\n",
      "Collecting stable-baselines3[extra]>=2.0.0a4\n",
      "  Using cached stable_baselines3-2.0.0a13-py3-none-any.whl.metadata (5.3 kB)\n",
      "  Using cached stable_baselines3-2.0.0a10-py3-none-any.whl.metadata (5.3 kB)\n",
      "  Using cached stable_baselines3-2.0.0a9-py3-none-any.whl.metadata (5.3 kB)\n",
      "  Using cached stable_baselines3-2.0.0a5-py3-none-any.whl.metadata (5.3 kB)\n",
      "  Using cached stable_baselines3-2.0.0a4-py3-none-any.whl.metadata (5.3 kB)\n",
      "\u001b[31mERROR: Could not find a version that satisfies the requirement ale-py~=0.8.1; extra == \"atari\" (from shimmy[atari]) (from versions: none)\u001b[0m\u001b[31m\n",
      "\u001b[0m\u001b[31mERROR: No matching distribution found for ale-py~=0.8.1; extra == \"atari\"\u001b[0m\u001b[31m\n",
      "\u001b[0m"
     ]
    }
   ],
   "source": [
    "!apt-get install ffmpeg freeglut3-dev xvfb  # For visualization\n",
    "!pip install \"stable-baselines3[extra]>=2.0.0a4\""
   ]
  },
  {
   "attachments": {},
   "cell_type": "markdown",
   "metadata": {
    "colab_type": "text",
    "id": "FtY8FhliLsGm"
   },
   "source": [
    "## Imports"
   ]
  },
  {
   "attachments": {},
   "cell_type": "markdown",
   "metadata": {
    "colab_type": "text",
    "id": "gcX8hEcaUpR0"
   },
   "source": [
    "Stable-Baselines3 works on environments that follow the [gym interface](https://stable-baselines3.readthedocs.io/en/master/guide/custom_env.html).\n",
    "You can find a list of available environment [here](https://gymnasium.farama.org/environments/classic_control/).\n",
    "\n",
    "Not all algorithms can work with all action spaces, you can find more in this [recap table](https://stable-baselines3.readthedocs.io/en/master/guide/algos.html)"
   ]
  },
  {
   "cell_type": "code",
   "execution_count": 1,
   "metadata": {
    "colab": {},
    "colab_type": "code",
    "id": "BIedd7Pz9sOs"
   },
   "outputs": [],
   "source": [
    "import gymnasium as gym\n",
    "import numpy as np"
   ]
  },
  {
   "attachments": {},
   "cell_type": "markdown",
   "metadata": {
    "colab_type": "text",
    "id": "Ae32CtgzTG3R"
   },
   "source": [
    "The first thing you need to import is the RL model, check the documentation to know what you can use on which problem"
   ]
  },
  {
   "cell_type": "code",
   "execution_count": 2,
   "metadata": {
    "colab": {},
    "colab_type": "code",
    "id": "R7tKaBFrTR0a"
   },
   "outputs": [],
   "source": [
    "from stable_baselines3 import PPO"
   ]
  },
  {
   "attachments": {},
   "cell_type": "markdown",
   "metadata": {
    "colab_type": "text",
    "id": "-0_8OQbOTTNT"
   },
   "source": [
    "The next thing you need to import is the policy class that will be used to create the networks (for the policy/value functions).\n",
    "This step is optional as you can directly use strings in the constructor: \n",
    "\n",
    "```PPO('MlpPolicy', env)``` instead of ```PPO(MlpPolicy, env)```\n",
    "\n",
    "Note that some algorithms like `SAC` have their own `MlpPolicy`, that's why using string for the policy is the recommended option."
   ]
  },
  {
   "cell_type": "code",
   "execution_count": 3,
   "metadata": {
    "colab": {},
    "colab_type": "code",
    "id": "ROUJr675TT01"
   },
   "outputs": [],
   "source": [
    "from stable_baselines3.ppo.policies import MlpPolicy"
   ]
  },
  {
   "attachments": {},
   "cell_type": "markdown",
   "metadata": {
    "colab_type": "text",
    "id": "RapkYvTXL7Cd"
   },
   "source": [
    "## Create the Gym env and instantiate the agent\n",
    "\n",
    "For this example, we will use CartPole environment, a classic control problem.\n",
    "\n",
    "\"A pole is attached by an un-actuated joint to a cart, which moves along a frictionless track. The system is controlled by applying a force of +1 or -1 to the cart. The pendulum starts upright, and the goal is to prevent it from falling over. A reward of +1 is provided for every timestep that the pole remains upright. \"\n",
    "\n",
    "Cartpole environment: [https://gymnasium.farama.org/environments/classic_control/cart_pole/](https://gymnasium.farama.org/environments/classic_control/cart_pole/)\n",
    "\n",
    "![Cartpole](https://cdn-images-1.medium.com/max/1143/1*h4WTQNVIsvMXJTCpXm_TAw.gif)\n",
    "\n",
    "\n",
    "We chose the MlpPolicy because the observation of the CartPole task is a feature vector, not images.\n",
    "\n",
    "The type of action to use (discrete/continuous) will be automatically deduced from the environment action space\n",
    "\n",
    "Here we are using the [Proximal Policy Optimization](https://stable-baselines3.readthedocs.io/en/master/modules/ppo.html) algorithm, which is an Actor-Critic method: it uses a value function to improve the policy gradient descent (by reducing the variance).\n",
    "\n",
    "It combines ideas from [A2C](https://stable-baselines3.readthedocs.io/en/master/modules/a2c.html) (having multiple workers and using an entropy bonus for exploration) and [TRPO](https://stable-baselines.readthedocs.io/en/master/modules/trpo.html) (it uses a trust region to improve stability and avoid catastrophic drops in performance).\n",
    "\n",
    "PPO is an on-policy algorithm, which means that the trajectories used to update the networks must be collected using the latest policy.\n",
    "It is usually less sample efficient than off-policy alorithms like [DQN](https://stable-baselines.readthedocs.io/en/master/modules/dqn.html), [SAC](https://stable-baselines3.readthedocs.io/en/master/modules/sac.html) or [TD3](https://stable-baselines3.readthedocs.io/en/master/modules/td3.html), but is much faster regarding wall-clock time.\n"
   ]
  },
  {
   "cell_type": "code",
   "execution_count": 4,
   "metadata": {
    "colab": {},
    "colab_type": "code",
    "id": "pUWGZp3i9wyf"
   },
   "outputs": [],
   "source": [
    "env = gym.make(\"CartPole-v1\")\n",
    "\n",
    "model = PPO(MlpPolicy, env, verbose=0)"
   ]
  },
  {
   "attachments": {},
   "cell_type": "markdown",
   "metadata": {
    "colab_type": "text",
    "id": "4efFdrQ7MBvl"
   },
   "source": [
    "We create a helper function to evaluate the agent:"
   ]
  },
  {
   "cell_type": "code",
   "execution_count": 5,
   "metadata": {
    "colab": {},
    "colab_type": "code",
    "id": "63M8mSKR-6Zt"
   },
   "outputs": [],
   "source": [
    "from stable_baselines3.common.base_class import BaseAlgorithm\n",
    "\n",
    "\n",
    "def evaluate(\n",
    "    model: BaseAlgorithm,\n",
    "    num_episodes: int = 100,\n",
    "    deterministic: bool = True,\n",
    ") -> float:\n",
    "    \"\"\"\n",
    "    Evaluate an RL agent for `num_episodes`.\n",
    "\n",
    "    :param model: the RL Agent\n",
    "    :param env: the gym Environment\n",
    "    :param num_episodes: number of episodes to evaluate it\n",
    "    :param deterministic: Whether to use deterministic or stochastic actions\n",
    "    :return: Mean reward for the last `num_episodes`\n",
    "    \"\"\"\n",
    "    # This function will only work for a single environment\n",
    "    vec_env = model.get_env()\n",
    "    obs = vec_env.reset()\n",
    "    all_episode_rewards = []\n",
    "    for _ in range(num_episodes):\n",
    "        episode_rewards = []\n",
    "        done = False\n",
    "        # Note: SB3 VecEnv resets automatically:\n",
    "        # https://stable-baselines3.readthedocs.io/en/master/guide/vec_envs.html#vecenv-api-vs-gym-api\n",
    "        # obs = vec_env.reset()\n",
    "        while not done:\n",
    "            # _states are only useful when using LSTM policies\n",
    "            # `deterministic` is to use deterministic actions\n",
    "            action, _states = model.predict(obs, deterministic=deterministic)\n",
    "            # here, action, rewards and dones are arrays\n",
    "            # because we are using vectorized env\n",
    "            obs, reward, done, _info = vec_env.step(action)\n",
    "            episode_rewards.append(reward)\n",
    "\n",
    "        all_episode_rewards.append(sum(episode_rewards))\n",
    "\n",
    "    mean_episode_reward = np.mean(all_episode_rewards)\n",
    "    print(f\"Mean reward: {mean_episode_reward:.2f} - Num episodes: {num_episodes}\")\n",
    "\n",
    "    return mean_episode_reward"
   ]
  },
  {
   "attachments": {},
   "cell_type": "markdown",
   "metadata": {
    "colab_type": "text",
    "id": "zjEVOIY8NVeK"
   },
   "source": [
    "Let's evaluate the un-trained agent, this should be a random agent."
   ]
  },
  {
   "cell_type": "code",
   "execution_count": 6,
   "metadata": {
    "colab": {
     "base_uri": "https://localhost:8080/",
     "height": 35
    },
    "colab_type": "code",
    "id": "xDHLMA6NFk95",
    "outputId": "231b2170-a607-48ed-e9d9-daef596f6384"
   },
   "outputs": [
    {
     "name": "stdout",
     "output_type": "stream",
     "text": [
      "Mean reward: 9.38 - Num episodes: 100\n"
     ]
    }
   ],
   "source": [
    "# Random Agent, before training\n",
    "mean_reward_before_train = evaluate(model, num_episodes=100, deterministic=True)"
   ]
  },
  {
   "attachments": {},
   "cell_type": "markdown",
   "metadata": {
    "colab_type": "text",
    "id": "QjjPxrwkYJ2i"
   },
   "source": [
    "Stable-Baselines already provides you with that helper:"
   ]
  },
  {
   "cell_type": "code",
   "execution_count": 7,
   "metadata": {
    "colab": {},
    "colab_type": "code",
    "id": "8z6K9YImYJEx"
   },
   "outputs": [],
   "source": [
    "from stable_baselines3.common.evaluation import evaluate_policy"
   ]
  },
  {
   "cell_type": "code",
   "execution_count": 8,
   "metadata": {
    "colab": {},
    "colab_type": "code",
    "id": "4oPTHjxyZSOL"
   },
   "outputs": [
    {
     "name": "stdout",
     "output_type": "stream",
     "text": [
      "mean_reward: 9.45 +/- 0.78\n"
     ]
    }
   ],
   "source": [
    "mean_reward, std_reward = evaluate_policy(model, env, n_eval_episodes=100, warn=False)\n",
    "\n",
    "print(f\"mean_reward: {mean_reward:.2f} +/- {std_reward:.2f}\")"
   ]
  },
  {
   "attachments": {},
   "cell_type": "markdown",
   "metadata": {
    "colab_type": "text",
    "id": "r5UoXTZPNdFE"
   },
   "source": [
    "## Train the agent and evaluate it"
   ]
  },
  {
   "cell_type": "code",
   "execution_count": 9,
   "metadata": {
    "colab": {},
    "colab_type": "code",
    "id": "e4cfSXIB-pTF"
   },
   "outputs": [
    {
     "data": {
      "text/plain": [
       "<stable_baselines3.ppo.ppo.PPO at 0x16a2638f0>"
      ]
     },
     "execution_count": 9,
     "metadata": {},
     "output_type": "execute_result"
    }
   ],
   "source": [
    "# Train the agent for 10000 steps\n",
    "model.learn(total_timesteps=10_000)"
   ]
  },
  {
   "cell_type": "code",
   "execution_count": 10,
   "metadata": {
    "colab": {},
    "colab_type": "code",
    "id": "ygl_gVmV_QP7"
   },
   "outputs": [
    {
     "name": "stderr",
     "output_type": "stream",
     "text": [
      "/opt/anaconda3/envs/ml/lib/python3.12/site-packages/stable_baselines3/common/evaluation.py:67: UserWarning: Evaluation environment is not wrapped with a ``Monitor`` wrapper. This may result in reporting modified episode lengths and rewards, if other wrappers happen to modify these. Consider wrapping environment first with ``Monitor`` wrapper.\n",
      "  warnings.warn(\n"
     ]
    },
    {
     "name": "stdout",
     "output_type": "stream",
     "text": [
      "mean_reward:374.87 +/- 115.92\n"
     ]
    }
   ],
   "source": [
    "# Evaluate the trained agent\n",
    "mean_reward, std_reward = evaluate_policy(model, env, n_eval_episodes=100)\n",
    "\n",
    "print(f\"mean_reward:{mean_reward:.2f} +/- {std_reward:.2f}\")"
   ]
  },
  {
   "attachments": {},
   "cell_type": "markdown",
   "metadata": {
    "colab_type": "text",
    "id": "A00W6yY3NkHG"
   },
   "source": [
    "Apparently the training went well, the mean reward increased a lot ! "
   ]
  },
  {
   "attachments": {},
   "cell_type": "markdown",
   "metadata": {
    "colab_type": "text",
    "id": "xVm9QPNVwKXN"
   },
   "source": [
    "### Prepare video recording"
   ]
  },
  {
   "cell_type": "code",
   "execution_count": 11,
   "metadata": {
    "colab": {},
    "colab_type": "code",
    "id": "MPyfQxD5z26J"
   },
   "outputs": [
    {
     "name": "stderr",
     "output_type": "stream",
     "text": [
      "sh: Xvfb: command not found\n"
     ]
    }
   ],
   "source": [
    "# Set up fake display; otherwise rendering will fail\n",
    "import os\n",
    "os.system(\"Xvfb :1 -screen 0 1024x768x24 &\")\n",
    "os.environ['DISPLAY'] = ':1'"
   ]
  },
  {
   "cell_type": "code",
   "execution_count": 12,
   "metadata": {
    "colab": {},
    "colab_type": "code",
    "id": "SLzXxO8VMD6N"
   },
   "outputs": [],
   "source": [
    "import base64\n",
    "from pathlib import Path\n",
    "\n",
    "from IPython import display as ipythondisplay\n",
    "\n",
    "\n",
    "def show_videos(video_path=\"\", prefix=\"\"):\n",
    "    \"\"\"\n",
    "    Taken from https://github.com/eleurent/highway-env\n",
    "\n",
    "    :param video_path: (str) Path to the folder containing videos\n",
    "    :param prefix: (str) Filter the video, showing only the only starting with this prefix\n",
    "    \"\"\"\n",
    "    html = []\n",
    "    for mp4 in Path(video_path).glob(\"{}*.mp4\".format(prefix)):\n",
    "        video_b64 = base64.b64encode(mp4.read_bytes())\n",
    "        html.append(\n",
    "            \"\"\"<video alt=\"{}\" autoplay \n",
    "                    loop controls style=\"height: 400px;\">\n",
    "                    <source src=\"data:video/mp4;base64,{}\" type=\"video/mp4\" />\n",
    "                </video>\"\"\".format(\n",
    "                mp4, video_b64.decode(\"ascii\")\n",
    "            )\n",
    "        )\n",
    "    ipythondisplay.display(ipythondisplay.HTML(data=\"<br>\".join(html)))"
   ]
  },
  {
   "attachments": {},
   "cell_type": "markdown",
   "metadata": {
    "colab_type": "text",
    "id": "LTRNUfulOGaF"
   },
   "source": [
    "We will record a video using the [VecVideoRecorder](https://stable-baselines3.readthedocs.io/en/master/guide/vec_envs.html#vecvideorecorder) wrapper, you will learn about those wrapper in the next notebook."
   ]
  },
  {
   "cell_type": "code",
   "execution_count": 13,
   "metadata": {
    "colab": {},
    "colab_type": "code",
    "id": "Trag9dQpOIhx"
   },
   "outputs": [],
   "source": [
    "from stable_baselines3.common.vec_env import VecVideoRecorder, DummyVecEnv\n",
    "\n",
    "\n",
    "def record_video(env_id, model, video_length=500, prefix=\"\", video_folder=\"videos/\"):\n",
    "    \"\"\"\n",
    "    :param env_id: (str)\n",
    "    :param model: (RL model)\n",
    "    :param video_length: (int)\n",
    "    :param prefix: (str)\n",
    "    :param video_folder: (str)\n",
    "    \"\"\"\n",
    "    eval_env = DummyVecEnv([lambda: gym.make(env_id, render_mode=\"rgb_array\")])\n",
    "    # Start the video at step=0 and record 500 steps\n",
    "    eval_env = VecVideoRecorder(\n",
    "        eval_env,\n",
    "        video_folder=video_folder,\n",
    "        record_video_trigger=lambda step: step == 0,\n",
    "        video_length=video_length,\n",
    "        name_prefix=prefix,\n",
    "    )\n",
    "\n",
    "    obs = eval_env.reset()\n",
    "    for _ in range(video_length):\n",
    "        action, _ = model.predict(obs)\n",
    "        obs, _, _, _ = eval_env.step(action)\n",
    "\n",
    "    # Close the video recorder\n",
    "    eval_env.close()"
   ]
  },
  {
   "attachments": {},
   "cell_type": "markdown",
   "metadata": {
    "colab_type": "text",
    "id": "KOObbeu5MMlR"
   },
   "source": [
    "### Visualize trained agent\n",
    "\n"
   ]
  },
  {
   "cell_type": "code",
   "execution_count": 14,
   "metadata": {
    "colab": {
     "base_uri": "https://localhost:8080/",
     "height": 35
    },
    "colab_type": "code",
    "id": "iATu7AiyMQW2",
    "outputId": "68acb027-6c94-4389-8456-2cfb11494814"
   },
   "outputs": [
    {
     "name": "stdout",
     "output_type": "stream",
     "text": [
      "Saving video to /Users/adrian/Documents/Code/RL/videos/ppo-cartpole-step-0-to-step-500.mp4\n",
      "Moviepy - Building video /Users/adrian/Documents/Code/RL/videos/ppo-cartpole-step-0-to-step-500.mp4.\n",
      "Moviepy - Writing video /Users/adrian/Documents/Code/RL/videos/ppo-cartpole-step-0-to-step-500.mp4\n",
      "\n"
     ]
    },
    {
     "name": "stderr",
     "output_type": "stream",
     "text": [
      "                                                               \r"
     ]
    },
    {
     "name": "stdout",
     "output_type": "stream",
     "text": [
      "Moviepy - Done !\n",
      "Moviepy - video ready /Users/adrian/Documents/Code/RL/videos/ppo-cartpole-step-0-to-step-500.mp4\n"
     ]
    }
   ],
   "source": [
    "record_video(\"CartPole-v1\", model, video_length=500, prefix=\"ppo-cartpole\")"
   ]
  },
  {
   "cell_type": "code",
   "execution_count": 15,
   "metadata": {
    "colab": {},
    "colab_type": "code",
    "id": "-n4i-fW3NojZ"
   },
   "outputs": [
    {
     "data": {
      "text/html": [
       "<video alt=\"videos/ppo-cartpole-step-0-to-step-500.mp4\" autoplay \n",
       "                    loop controls style=\"height: 400px;\">\n",
       "                    <source src=\"data:video/mp4;base64,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\" type=\"video/mp4\" />\n",
       "                </video>"
      ],
      "text/plain": [
       "<IPython.core.display.HTML object>"
      ]
     },
     "metadata": {},
     "output_type": "display_data"
    }
   ],
   "source": [
    "show_videos(\"videos\", prefix=\"ppo\")"
   ]
  },
  {
   "attachments": {},
   "cell_type": "markdown",
   "metadata": {
    "colab_type": "text",
    "id": "9Y8zg4V566qD"
   },
   "source": [
    "## Bonus: Train a RL Model in One Line\n",
    "\n",
    "The policy class to use will be inferred and the environment will be automatically created. This works because both are [registered](https://stable-baselines3.readthedocs.io/en/master/guide/quickstart.html)."
   ]
  },
  {
   "cell_type": "code",
   "execution_count": 16,
   "metadata": {
    "colab": {},
    "colab_type": "code",
    "id": "iaOPfOrwWEP4"
   },
   "outputs": [
    {
     "name": "stdout",
     "output_type": "stream",
     "text": [
      "Using cpu device\n",
      "Creating environment from the given name 'CartPole-v1'\n",
      "Wrapping the env with a `Monitor` wrapper\n",
      "Wrapping the env in a DummyVecEnv.\n",
      "---------------------------------\n",
      "| rollout/           |          |\n",
      "|    ep_len_mean     | 22.7     |\n",
      "|    ep_rew_mean     | 22.7     |\n",
      "| time/              |          |\n",
      "|    fps             | 5936     |\n",
      "|    iterations      | 1        |\n",
      "|    time_elapsed    | 0        |\n",
      "|    total_timesteps | 2048     |\n",
      "---------------------------------\n"
     ]
    }
   ],
   "source": [
    "model = PPO('MlpPolicy', \"CartPole-v1\", verbose=1).learn(1000)"
   ]
  },
  {
   "attachments": {},
   "cell_type": "markdown",
   "metadata": {
    "colab_type": "text",
    "id": "FrI6f5fWnzp-"
   },
   "source": [
    "## Conclusion\n",
    "\n",
    "In this notebook we have seen:\n",
    "- how to define and train a RL model using stable baselines3, it takes only one line of code ;)"
   ]
  },
  {
   "cell_type": "code",
   "execution_count": null,
   "metadata": {
    "colab": {},
    "colab_type": "code",
    "id": "73ji3gbNDkf7"
   },
   "outputs": [],
   "source": []
  }
 ],
 "metadata": {
  "accelerator": "GPU",
  "colab": {
   "collapsed_sections": [],
   "include_colab_link": true,
   "name": "1_getting_started.ipynb",
   "provenance": []
  },
  "kernelspec": {
   "display_name": "Python 3 (ipykernel)",
   "language": "python",
   "name": "python3"
  },
  "language_info": {
   "codemirror_mode": {
    "name": "ipython",
    "version": 3
   },
   "file_extension": ".py",
   "mimetype": "text/x-python",
   "name": "python",
   "nbconvert_exporter": "python",
   "pygments_lexer": "ipython3",
   "version": "3.12.3"
  }
 },
 "nbformat": 4,
 "nbformat_minor": 4
}
